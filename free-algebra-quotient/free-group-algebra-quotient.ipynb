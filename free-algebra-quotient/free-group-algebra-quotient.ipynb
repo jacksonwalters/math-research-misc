{
 "cells": [
  {
   "cell_type": "code",
   "execution_count": 12,
   "id": "4f25b4bf",
   "metadata": {},
   "outputs": [],
   "source": [
    "#REFS:\n",
    "#Short presentations for alternating and symmetric groups, J.N. Bray, M.D.E. Conder, C.R. Leedham-Green, and E.A. O’Brien\n",
    "#https://en.wikipedia.org/wiki/Chinese_remainder_theorem#Generalization_to_arbitrary_rings"
   ]
  },
  {
   "cell_type": "code",
   "execution_count": 13,
   "id": "d7d0939f-4003-4596-87b0-68e044227fa3",
   "metadata": {},
   "outputs": [],
   "source": [
    "#we can represent the group algebra of a cyclic group as a polynomial ring quotient an ideal \n",
    "#F[C_N] = F[x]/(x^N-1)\n",
    "#and factor x^N-1, and use the Chinese remainder theorem and Bezout's identity for the isomorphism.\n",
    "#Similarly, we can write down a presentation of S_N, <\\sigma, \\tau | \\sigma^n = 1, \\tau^2 = 1, ...>,\n",
    "#with just two generators and then the group algebra is a quotient of a free algebra on two generators,\n",
    "#F[S_N] = F<x,y>/ (x^2 = y^n = (xy)^{n−1} = 1, (xy^{−1}xy)^3 = 1, (xy^{−j}xy^j)^2 = 1 for 2 \\le j \\le ⌊n/2⌋)\n",
    "#We still have the Chinese remainder theorem, and there algorthims to factor non-commutative polynomials. \n",
    "#It turns out this is equivalent to using central orthogonal idempotents.\n",
    "#Question: Do we gain anything with this approach?"
   ]
  },
  {
   "cell_type": "code",
   "execution_count": 14,
   "id": "a1e1bc1f-4b4c-4139-a42b-871e6c4ae590",
   "metadata": {},
   "outputs": [],
   "source": [
    "#Let I = I_1 \\cap \\ldots \\cap I_k be the intersection of pairwise coprime two-sided ideals, \n",
    "#i.e. there exists i+j = 1 in each distinct pair I_i, I_j.\n",
    "#Let phi: F<x,y>/I --> F<x,y>/I_1 \\times \\ldots \\times F<x,y>/I_k\n",
    "#Let f_i = (0,0, \\ldots , 1 , \\ldots 0, 0), a 1 in th i-th component and 0's elsewhere.\n",
    "#The e_i = \\phi^-1(f_i). I_i = F<x,y>(1-e_i).\n",
    "#In this case we have the idempotents e_i = e_i(x,y), so we can construct the ideals I_i = F<x,y>(1-e_i). \n",
    "#So really we just need to compute 1-e_i(x,y), so convert the group elements their words in x, y."
   ]
  },
  {
   "cell_type": "code",
   "execution_count": 15,
   "id": "212eb153-24ea-41d1-b10a-2fb11d89eb51",
   "metadata": {},
   "outputs": [],
   "source": [
    "#CONSTRUCT EXPLICIT ISOMORPHISM \n",
    "#obtain map from quotient of free group to symmetric group using GAP library\n",
    "#[a^2, b^n, (a*b)^(n-1), (a*b^(-1)*a*b)^3] + [(a*b^(-j)*a*b^j)^2 for j in range(2,floor(n/2)+1)]\n",
    "#NOTE: there are many isomorphisms, and a different one is returned every time\n",
    "def symmetric_group_gens(n):\n",
    "    f=gap.FreeGroup(2)\n",
    "    relations = gap([f.1^2, f.2^n, (f.1*f.2)^(n-1), (f.1*f.2^(-1)*f.1*f.2)^3] + [(f.1*f.2^(-j)*f.1*f.2^j)^2 for j in range(2,floor(n/2)+1)])\n",
    "    g = f / relations\n",
    "    Sn = gap.SymmetricGroup(n)\n",
    "    isom = gap.IsomorphismGroups(g,Sn)\n",
    "    im_g = gap.Image(isom)\n",
    "    sym_gens = gap.GeneratorsOfGroup(im_g)\n",
    "    return list(sym_gens)"
   ]
  },
  {
   "cell_type": "code",
   "execution_count": 16,
   "id": "0b55ac40-1d93-477f-8532-4ff7501dc1e2",
   "metadata": {},
   "outputs": [],
   "source": [
    "#map from symmetric group algebra to quotient of free group algebra\n",
    "#we must use the standard symmetric group in order to solve the word problem\n",
    "def SGA_to_FGA_quotient(v):\n",
    "    #solve word problem for each basis element\n",
    "    FGA_convert = 0\n",
    "    sym_gens = symmetric_group_gens(n)\n",
    "    for pair in list(v):\n",
    "        coeff = FGA(pair[1])\n",
    "        sigma = SymmetricGroup(n)(pair[0])\n",
    "        gens = [SymmetricGroup(n)(sym_gens[0]), SymmetricGroup(n)(sym_gens[1])]\n",
    "        word_gens, word_sym = sigma.word_problem(gens,display=False)\n",
    "        #handle identity case separately\n",
    "        if word_gens == \"<identity ...>\":\n",
    "            replace_with_free_group_gens = \"1\"\n",
    "        else:\n",
    "            #map word in generators to free group quotient\n",
    "            replace_with_free_group_gens = word_gens.replace(\"x1\",\"a\").replace(\"x2\",\"b\")\n",
    "        word_to_free_group_quotient = sage_eval(replace_with_free_group_gens,locals={'a':G.gens()[0],'b':G.gens()[1]})\n",
    "        FGA_convert += coeff*FGA(word_to_free_group_quotient)\n",
    "    return FGA_convert"
   ]
  },
  {
   "cell_type": "code",
   "execution_count": 17,
   "id": "41820d4f-89ae-47d8-90c9-e70aab27a14b",
   "metadata": {},
   "outputs": [],
   "source": [
    "#function to reduce elements of the free group algebra quotient using group relations\n",
    "def reduce(v):\n",
    "    k = G.rewriting_system()\n",
    "    k.make_confluent()\n",
    "    return sum(FGA(item[1])*FGA(k.reduce(item[0])) for item in list(v))"
   ]
  },
  {
   "cell_type": "code",
   "execution_count": 52,
   "id": "f411ef31-79c8-41d3-9216-0fa024cff56f",
   "metadata": {},
   "outputs": [
    {
     "name": "stdout",
     "output_type": "stream",
     "text": [
      "True\n",
      "S4\n"
     ]
    }
   ],
   "source": [
    "#a short presentation for S_n\n",
    "#{x,y|x^2 = y^n = (xy)^{n−1} = 1, (xy^{−1}xy)^3 = 1, (xy^{−j}xy^j)^2 = 1 for 2 \\le j \\le ⌊n/2⌋}\n",
    "n=4\n",
    "F.<a,b> = FreeGroup()\n",
    "R = [a^2, b^n, (a*b)^(n-1), (a*b^(-1)*a*b)^3] + [(a*b^(-j)*a*b^j)^2 for j in range(2,floor(n/2)+1)]\n",
    "G = F / R\n",
    "print(G.is_isomorphic(SymmetricGroup(n)))\n",
    "print(G.structure_description())"
   ]
  },
  {
   "cell_type": "code",
   "execution_count": 53,
   "id": "192f8396-a92b-44f0-a32b-890f1de87a94",
   "metadata": {},
   "outputs": [
    {
     "data": {
      "text/plain": [
       "True"
      ]
     },
     "execution_count": 53,
     "metadata": {},
     "output_type": "execute_result"
    }
   ],
   "source": [
    "#we can easily and quickly compute idempotents for the symmetric group algebra\n",
    "#for each group element in idempotents, find expression as a word in x,y\n",
    "p=3;\n",
    "SGA_GFp_n = SymmetricGroupAlgebra(GF(p),n)\n",
    "idems = SGA_GFp_n.central_orthogonal_idempotents()\n",
    "idems[2]*idems[2] == idems[2]"
   ]
  },
  {
   "cell_type": "code",
   "execution_count": 54,
   "id": "a75d569f-f883-428c-8d61-897380644e64",
   "metadata": {},
   "outputs": [
    {
     "data": {
      "text/plain": [
       "Algebra of Finitely presented group < a, b | a^2, b^4, (a*b)^3, (a*b^-1*a*b)^3, (a*b^-2*a*b^2)^2 > over Finite Field of size 3"
      ]
     },
     "execution_count": 54,
     "metadata": {},
     "output_type": "execute_result"
    }
   ],
   "source": [
    "#can use free group algebra corresponding to G\n",
    "FGA = GroupAlgebra(G, GF(p)); FGA"
   ]
  },
  {
   "cell_type": "code",
   "execution_count": 21,
   "id": "6a7bce8f-b5b5-4cb3-bc18-73135010fe71",
   "metadata": {},
   "outputs": [
    {
     "name": "stdout",
     "output_type": "stream",
     "text": [
      "2*[1, 2, 4, 3] + 2*[1, 3, 2, 4] + 2*[1, 4, 3, 2] + 2*[2, 1, 3, 4] + [2, 1, 4, 3] + [2, 3, 4, 1] + [2, 4, 1, 3] + [3, 1, 4, 2] + 2*[3, 2, 1, 4] + [3, 4, 1, 2] + [3, 4, 2, 1] + [4, 1, 2, 3] + 2*[4, 2, 3, 1] + [4, 3, 1, 2] + [4, 3, 2, 1]\n"
     ]
    },
    {
     "data": {
      "text/plain": [
       "2*a*b*a*b^-1*a + a*b*a*b^-1*a*b + b^2 + 2*a + b + 2*a*b^2*a*b^-1 + a*b^2*a + 2*b*a*b^-1 + 2*b*a*b^-1*a*b + a*b^2 + b^-1 + a*b*a + a*b^-1*a + b^2*a + 2*b^-1*a*b"
      ]
     },
     "execution_count": 21,
     "metadata": {},
     "output_type": "execute_result"
    }
   ],
   "source": [
    "print(idems[0])\n",
    "poly1 = SGA_to_FGA_quotient(idems[0]); reduce(poly1)"
   ]
  },
  {
   "cell_type": "code",
   "execution_count": 22,
   "id": "c95a9f90-3fa1-46fd-9453-9de1d8baaf92",
   "metadata": {},
   "outputs": [
    {
     "name": "stdout",
     "output_type": "stream",
     "text": [
      "[1, 2, 4, 3] + [1, 3, 2, 4] + [1, 4, 3, 2] + [2, 1, 3, 4] + [2, 1, 4, 3] + 2*[2, 3, 4, 1] + 2*[2, 4, 1, 3] + 2*[3, 1, 4, 2] + [3, 2, 1, 4] + [3, 4, 1, 2] + 2*[3, 4, 2, 1] + 2*[4, 1, 2, 3] + [4, 2, 3, 1] + 2*[4, 3, 1, 2] + [4, 3, 2, 1]\n"
     ]
    },
    {
     "data": {
      "text/plain": [
       "a*b*a*b^-1*a + a*b*a*b^-1*a*b + b^2 + a + 2*b + a*b^2*a*b^-1 + a*b^2*a + b*a*b^-1 + b*a*b^-1*a*b + 2*a*b^2 + 2*b^-1 + 2*a*b*a + 2*a*b^-1*a + 2*b^2*a + b^-1*a*b"
      ]
     },
     "execution_count": 22,
     "metadata": {},
     "output_type": "execute_result"
    }
   ],
   "source": [
    "print(idems[1])\n",
    "poly2 = SGA_to_FGA_quotient(idems[1]); reduce(poly2)"
   ]
  },
  {
   "cell_type": "code",
   "execution_count": 23,
   "id": "62bbf7d3-0fe1-4803-8497-5edd345b438b",
   "metadata": {},
   "outputs": [
    {
     "name": "stdout",
     "output_type": "stream",
     "text": [
      "[1, 2, 3, 4] + [2, 1, 4, 3] + [3, 4, 1, 2] + [4, 3, 2, 1]\n"
     ]
    },
    {
     "data": {
      "text/plain": [
       "1 + a*b*a*b^-1*a*b + b^2 + a*b^2*a"
      ]
     },
     "execution_count": 23,
     "metadata": {},
     "output_type": "execute_result"
    }
   ],
   "source": [
    "print(idems[2])\n",
    "poly3 = SGA_to_FGA_quotient(idems[2]); reduce(poly3)"
   ]
  },
  {
   "cell_type": "code",
   "execution_count": 24,
   "id": "9955b14d-83ea-4fe0-89c3-868106ee124f",
   "metadata": {},
   "outputs": [
    {
     "data": {
      "text/plain": [
       "[1, 2, 3, 4] + [2, 1, 4, 3] + [3, 4, 1, 2] + [4, 3, 2, 1]"
      ]
     },
     "execution_count": 24,
     "metadata": {},
     "output_type": "execute_result"
    }
   ],
   "source": [
    "idems[2]"
   ]
  },
  {
   "cell_type": "code",
   "execution_count": 25,
   "id": "f577a6ec-8494-412c-a15e-33df805e27a4",
   "metadata": {},
   "outputs": [
    {
     "data": {
      "text/plain": [
       "True"
      ]
     },
     "execution_count": 25,
     "metadata": {},
     "output_type": "execute_result"
    }
   ],
   "source": [
    "#the polynomials are still idempotent even when written in terms of generators and relations\n",
    "reduce(poly3) == reduce(poly3*poly3)"
   ]
  },
  {
   "cell_type": "code",
   "execution_count": 26,
   "id": "b373b75c-ca1d-4346-9c4e-9b3cd9c4570c",
   "metadata": {},
   "outputs": [],
   "source": [
    "#could use Groebner bases for non-commutative polynomials to extract information from idempotent polynomials\n",
    "#one could use new variables c=a^-1 and d=b^-1 to get rid of the inverses\n",
    "#then one is factoring a polynomial of four variables\n",
    "#GAP has a package GBNP, https://www.gap-system.org/Packages/gbnp.html\n",
    "#we can call Gap from Sage\n",
    "#need to install GBNP package\n",
    "#SAGE_ROOT = \"/Applications/SageMath-10-3.app/Contents/Frameworks/sage.framework/Versions/10.3\"\n",
    "#GAP_PKG = \"local/lib/gap/pkg\""
   ]
  },
  {
   "cell_type": "code",
   "execution_count": 27,
   "id": "1c53f317-5449-4658-bc7e-9037032b0ab1",
   "metadata": {},
   "outputs": [
    {
     "data": {
      "text/plain": [
       "true"
      ]
     },
     "execution_count": 27,
     "metadata": {},
     "output_type": "execute_result"
    }
   ],
   "source": [
    "gap('LoadPackage(\"gbnp\");')"
   ]
  },
  {
   "cell_type": "code",
   "execution_count": 28,
   "id": "ef657751-3922-41d2-bcc4-293604bcca3c",
   "metadata": {},
   "outputs": [],
   "source": [
    "#should yield 3ab - ba\n",
    "#gap('PrintNP([[[1,2],[2,1]],[3,-1]]);')\n",
    "#can only run one GAP command at a time"
   ]
  },
  {
   "cell_type": "code",
   "execution_count": 29,
   "id": "dcfefab4-92cc-4f2d-92b4-4a59efe266c4",
   "metadata": {},
   "outputs": [],
   "source": [
    "#FUNDCTION: encodes relations in [\"monomial list\", \"coeff list\"] format\n",
    "#INPUT: relations of group\n",
    "#OUTPUT: encoded multivariate polynomial in format for input to GBNP in GAP\n",
    "#R = [a^2, b^n, (a*b)^(n-1), (a*b^(-1)*a*b)^3] + [(a*b^(-j)*a*b^j)^2 for j in range(2,floor(n/2)+1)]\n",
    "#NOTE: the zero polynomial is represented by 0 <--> [[],[]] and 1 <--> [[[]],[1]]\n",
    "#we are encoding the relation a^2=1 from the group as a^2-1=0 in the group algebra\n",
    "def encode_relations(R, var_index = {'a':1,'b':2,'c':3,'d':4}):\n",
    "    encoded_relations = []\n",
    "    for r in R: #iterate over relations\n",
    "        nc_poly = [[[]],[-1]] #initialize to polynomial -1\n",
    "        coeff = 1 #the coefficient of the monomial is 1\n",
    "        monomial = [] #create list of monomial indices\n",
    "        for item in r.syllables(): #iterate over syllables, e.g. (a,2) <--> a^2\n",
    "            grp_elem = item[0] #get the group element\n",
    "            pow = item[1] #get the power the group element is being raised to\n",
    "            idx = var_index[str(grp_elem)]+2*(pow < 0) #get the index of the variable for the noncommutative polynomial\n",
    "            for i in range(abs(pow)): #append to monomial list for the number of times the group element occurs\n",
    "                monomial.append(idx)\n",
    "        nc_poly[0].append(monomial)\n",
    "        nc_poly[1].append(coeff)\n",
    "        encoded_relations.append(nc_poly)\n",
    "    return encoded_relations"
   ]
  },
  {
   "cell_type": "code",
   "execution_count": 30,
   "id": "ebb15915-fc33-4b6c-8337-6d904cad8e55",
   "metadata": {},
   "outputs": [
    {
     "data": {
      "text/plain": [
       "[a^2, b^4, (a*b)^3, (a*b^-1*a*b)^3, (a*b^-2*a*b^2)^2]"
      ]
     },
     "execution_count": 30,
     "metadata": {},
     "output_type": "execute_result"
    }
   ],
   "source": [
    "R"
   ]
  },
  {
   "cell_type": "code",
   "execution_count": 31,
   "id": "8ae175d9-85cb-4fab-af15-a122e6507af1",
   "metadata": {},
   "outputs": [
    {
     "data": {
      "text/plain": [
       "[[[[], [1, 1]], [-1, 1]],\n",
       " [[[], [2, 2, 2, 2]], [-1, 1]],\n",
       " [[[], [1, 2, 1, 2, 1, 2]], [-1, 1]],\n",
       " [[[], [1, 4, 1, 2, 1, 4, 1, 2, 1, 4, 1, 2]], [-1, 1]],\n",
       " [[[], [1, 4, 4, 1, 2, 2, 1, 4, 4, 1, 2, 2]], [-1, 1]]]"
      ]
     },
     "execution_count": 31,
     "metadata": {},
     "output_type": "execute_result"
    }
   ],
   "source": [
    "encode_relations(R)"
   ]
  },
  {
   "cell_type": "code",
   "execution_count": 32,
   "id": "ec92fff6-d2af-4838-97c1-d360d327991d",
   "metadata": {},
   "outputs": [],
   "source": [
    "#encode relations corresponding to a*a^-1 = b*b^-1 = 1, i.e. ac=ca=1, bd=db=1\n",
    "def inverse_relations():\n",
    "    return [[[[],[1,3]],[-1,1]],[[[],[3,1]],[-1,1]],[[[],[2,4]],[-1,1]],[[[],[4,2]],[-1,1]]]"
   ]
  },
  {
   "cell_type": "code",
   "execution_count": 33,
   "id": "1a1fd46e-3c0c-4f9d-a06b-46abb63a1815",
   "metadata": {},
   "outputs": [
    {
     "data": {
      "text/plain": [
       "[[[[], [1, 3]], [-1, 1]],\n",
       " [[[], [3, 1]], [-1, 1]],\n",
       " [[[], [2, 4]], [-1, 1]],\n",
       " [[[], [4, 2]], [-1, 1]]]"
      ]
     },
     "execution_count": 33,
     "metadata": {},
     "output_type": "execute_result"
    }
   ],
   "source": [
    "inverse_relations()"
   ]
  },
  {
   "cell_type": "code",
   "execution_count": 34,
   "id": "188a0440-abc4-470d-ad72-9122a836ca5e",
   "metadata": {},
   "outputs": [],
   "source": [
    "#relations for idempotents\n",
    "def idempotent_nc_poly(idem_poly, var_index = {'a':1,'b':2,'c':3,'d':4}):\n",
    "    nc_poly = [[],[]] #initialize to zero polynomial\n",
    "    #need to look at 1-e_i by Chinese remainder theorem\n",
    "    for pair in list(1 - idem_poly):\n",
    "        coeff = pair[1]\n",
    "        grp_monomial = pair[0]\n",
    "        monomial = [] #create list of monomial indices\n",
    "        for item in grp_monomial.syllables(): #iterate over syllables, e.g. (a,2) <--> a^2\n",
    "            grp_elem = item[0] #get the group element\n",
    "            pow = item[1] #get the power the group element is being raised to\n",
    "            idx = var_index[str(grp_elem)]+2*(pow < 0) #get the index of the variable for the noncommutative polynomial\n",
    "            for i in range(abs(pow)): #append to monomial list for the number of times the group element occurs\n",
    "                monomial.append(idx)\n",
    "        nc_poly[0].append(monomial)\n",
    "        nc_poly[1].append(coeff)\n",
    "    return nc_poly"
   ]
  },
  {
   "cell_type": "code",
   "execution_count": 35,
   "id": "871534cb-e7ea-418f-ab01-0229561d1d0a",
   "metadata": {},
   "outputs": [],
   "source": [
    "#get a list of all relations and ideals as noncommutative polynomials\n",
    "#we just want to choose the field for the Groebner basis calculation\n",
    "#can try multiplying by One(GF(p)) in GAP\n",
    "def all_nc_polynomial_relations(idem):\n",
    "    all_nc_polys = []\n",
    "    idem_poly = reduce(SGA_to_FGA_quotient(idem))\n",
    "    all_nc_polys.append(idempotent_nc_poly(idem_poly))\n",
    "    all_nc_polys += inverse_relations()\n",
    "    all_nc_polys += encode_relations(R)\n",
    "    #format for GAP. convert to GF(p) by multiplying by 1 in the field. format array as string.\n",
    "    #return all_nc_polys\n",
    "    return '[' + ','.join([ \"[\" + str(poly[0]) + \",\" + f\"One(GF({p}))*\" + str(poly[1]) + \"]\" for poly in all_nc_polys]) + ']'"
   ]
  },
  {
   "cell_type": "code",
   "execution_count": 36,
   "id": "a857b382-89bb-40d7-9c74-0f5f1396c928",
   "metadata": {},
   "outputs": [
    {
     "data": {
      "text/plain": [
       "'[[[[], [1, 2, 2, 1, 4], [2, 1, 4, 1, 2], [2, 1, 4], [1, 2, 1, 4, 1], [4, 1, 2], [1], [2, 2], [1, 2, 2, 1], [1, 2, 1, 4, 1, 2], [1, 4, 1], [2, 2, 1], [1, 2, 2], [2], [1, 2, 1], [4]],One(GF(3))*[1, 1, 1, 1, 1, 1, 1, 2, 2, 2, 2, 2, 2, 2, 2, 2]],[[[], [1, 3]],One(GF(3))*[-1, 1]],[[[], [3, 1]],One(GF(3))*[-1, 1]],[[[], [2, 4]],One(GF(3))*[-1, 1]],[[[], [4, 2]],One(GF(3))*[-1, 1]],[[[], [1, 1]],One(GF(3))*[-1, 1]],[[[], [2, 2, 2, 2]],One(GF(3))*[-1, 1]],[[[], [1, 2, 1, 2, 1, 2]],One(GF(3))*[-1, 1]],[[[], [1, 4, 1, 2, 1, 4, 1, 2, 1, 4, 1, 2]],One(GF(3))*[-1, 1]],[[[], [1, 4, 4, 1, 2, 2, 1, 4, 4, 1, 2, 2]],One(GF(3))*[-1, 1]]]'"
      ]
     },
     "execution_count": 36,
     "metadata": {},
     "output_type": "execute_result"
    }
   ],
   "source": [
    "all_nc_polynomial_relations(idems[0])"
   ]
  },
  {
   "cell_type": "code",
   "execution_count": 37,
   "id": "0776a6a5-d27f-4467-96f3-93e6cd661673",
   "metadata": {},
   "outputs": [],
   "source": [
    "#running the Groebner basis algorithm results in the trivial constant polynomial 1\n",
    "#because I was using all the idempotents, but they are pairwise coprime\n",
    "#just use one to understand the block R/I_i"
   ]
  },
  {
   "cell_type": "code",
   "execution_count": 38,
   "id": "eb0fc662-f6de-48f3-ac8c-e5565e3a6c2b",
   "metadata": {},
   "outputs": [],
   "source": [
    "#in GAP: \n",
    "#LoadPackage(\"gbnp\");\n",
    "#nc_polys := [ ... ];\n",
    "#Grobner(nc_polys);"
   ]
  },
  {
   "cell_type": "code",
   "execution_count": 50,
   "id": "a569e303-4099-474c-9196-3db2eecef247",
   "metadata": {},
   "outputs": [
    {
     "data": {
      "text/plain": [
       "[x^3 + 1]"
      ]
     },
     "execution_count": 50,
     "metadata": {},
     "output_type": "execute_result"
    }
   ],
   "source": [
    "#compute a Groebner basis for the commutative example F_p[C_N] = F_p[x]/(x^N-1)\n",
    "#Groebner basis not does seem to reveal any information about the factorization\n",
    "#perhaps try factoring directly?\n",
    "P.<x> = GF(3)['x']\n",
    "I = ideal((x+1)^3)\n",
    "I.groebner_basis()"
   ]
  },
  {
   "cell_type": "code",
   "execution_count": 40,
   "id": "7339d24e-2c75-440e-a5a2-4e7363eb7ec8",
   "metadata": {},
   "outputs": [],
   "source": [
    "#perhaps just looking at the quotient ring itself, R/I_i where I_i = (1-e_i)\n",
    "#we can form quotients of noncommutative rings\n",
    "#perhaps also looking at the symmetric group algebra, so SGA/I_i\n",
    "#in the first case will have to encode relations of symmetric group, inverses\n",
    "#https://doc.sagemath.org/html/en/reference/rings/sage/rings/ring.html#sage.rings.ring.Ring.ideal\n",
    "from sage.rings.noncommutative_ideals import Ideal_nc"
   ]
  },
  {
   "cell_type": "code",
   "execution_count": 55,
   "id": "6d1bac9b-3ac8-47fb-9f3f-7bf7f0b4ed67",
   "metadata": {},
   "outputs": [
    {
     "data": {
      "text/plain": [
       "[a^2, b^4, (a*b)^3, (a*b^-1*a*b)^3, (a*b^-2*a*b^2)^2]"
      ]
     },
     "execution_count": 55,
     "metadata": {},
     "output_type": "execute_result"
    }
   ],
   "source": [
    "R"
   ]
  },
  {
   "cell_type": "code",
   "execution_count": 179,
   "id": "a443a6d5-bb70-443f-8481-df9920f5192f",
   "metadata": {},
   "outputs": [],
   "source": [
    "#FreeAlgebra doesn't reduce properly\n",
    "#may need to explicitly provide 'reduce' method for elements in the ideal\n",
    "#implementation='letterplace' doesn't work\n",
    "A.<a,b,c,d> = FreeAlgebra(GF(3), 4) \n",
    "I = A.ideal(a^2-1, b^4-1, (a*b)^3-1,(a*c*a*b)^3-1,(a*d^2*a*b^2)^2-1, a*c-1,c*a-1,b*d-1,d*b-1)\n",
    "A_mod_I = A.quotient(I)"
   ]
  },
  {
   "cell_type": "code",
   "execution_count": 180,
   "id": "7a55d3b5-7f1d-4e0b-a328-22210e2cb877",
   "metadata": {},
   "outputs": [
    {
     "data": {
      "text/plain": [
       "(abar, bbar, cbar, dbar)"
      ]
     },
     "execution_count": 180,
     "metadata": {},
     "output_type": "execute_result"
    }
   ],
   "source": [
    "A_mod_I.gens()"
   ]
  },
  {
   "cell_type": "code",
   "execution_count": 181,
   "id": "6c2a247d-4e92-436e-b8c0-d63eb73354c0",
   "metadata": {},
   "outputs": [
    {
     "data": {
      "text/plain": [
       "2 + abar^2"
      ]
     },
     "execution_count": 181,
     "metadata": {},
     "output_type": "execute_result"
    }
   ],
   "source": [
    "A_mod_I.0^2-1"
   ]
  },
  {
   "cell_type": "code",
   "execution_count": 182,
   "id": "9006650a-c76f-41c9-9116-07b5e6173dc5",
   "metadata": {},
   "outputs": [],
   "source": [
    "I_2 = SymmetricGroupAlgebra(GF(3),4).ideal(1-idems[2])"
   ]
  },
  {
   "cell_type": "code",
   "execution_count": 183,
   "id": "2a51850c-0c6b-43bc-9eba-1d222b47d19a",
   "metadata": {},
   "outputs": [],
   "source": [
    "block_quotient = SymmetricGroupAlgebra(GF(3),4).quotient(I_2)"
   ]
  },
  {
   "cell_type": "code",
   "execution_count": 188,
   "id": "1aa834d1-b5a0-4423-b8e2-5b055b8c5f51",
   "metadata": {},
   "outputs": [
    {
     "data": {
      "text/plain": [
       "Quotient of Symmetric group algebra of order 4 over Finite Field of size 3 by the ideal (2*[2, 1, 4, 3] + 2*[3, 4, 1, 2] + 2*[4, 3, 2, 1])"
      ]
     },
     "execution_count": 188,
     "metadata": {},
     "output_type": "execute_result"
    }
   ],
   "source": [
    "block_quotient"
   ]
  },
  {
   "cell_type": "code",
   "execution_count": null,
   "id": "13af3b62-562d-4672-b719-0b19b663156b",
   "metadata": {},
   "outputs": [],
   "source": []
  }
 ],
 "metadata": {
  "kernelspec": {
   "display_name": "SageMath 10.3",
   "language": "sage",
   "name": "sagemath-10.3"
  },
  "language_info": {
   "codemirror_mode": {
    "name": "ipython",
    "version": 3
   },
   "file_extension": ".py",
   "mimetype": "text/x-python",
   "name": "python",
   "nbconvert_exporter": "python",
   "pygments_lexer": "ipython3",
   "version": "3.11.1"
  }
 },
 "nbformat": 4,
 "nbformat_minor": 5
}
