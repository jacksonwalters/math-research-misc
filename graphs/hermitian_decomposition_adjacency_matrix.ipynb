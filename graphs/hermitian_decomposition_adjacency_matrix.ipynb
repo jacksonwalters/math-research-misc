{
 "cells": [
  {
   "cell_type": "code",
   "execution_count": 1,
   "metadata": {
    "vscode": {
     "languageId": "plaintext"
    }
   },
   "outputs": [],
   "source": [
    "#for u in GF(q), we can factor as u=aa^* using gen. z and modular arithmetic\n",
    "def conj_square_root(u):\n",
    "    if u == 0:\n",
    "        return 0  # Special case for 0\n",
    "    z = F.multiplicative_generator()\n",
    "    k = u.log(z)  # Compute discrete log of u to the base z\n",
    "    if k % (q+1) != 0:\n",
    "        raise ValueError(\"Unable to factor: u is not in base field GF(q)\")\n",
    "    return z**(k//(q+1))"
   ]
  },
  {
   "cell_type": "code",
   "execution_count": 2,
   "metadata": {
    "vscode": {
     "languageId": "plaintext"
    }
   },
   "outputs": [],
   "source": [
    "def base_change_hermitian_gap_source(mat):\n",
    "    \"\"\"\n",
    "    Diagonalizes a Hermitian matrix over a finite field.\n",
    "    Returns the base change matrix and the rank of the Hermitian form.\n",
    "\n",
    "    Arguments:\n",
    "        mat: The Gram matrix of a Hermitian form (Sage matrix object)\n",
    "\n",
    "    Returns:\n",
    "        D: The base change matrix\n",
    "        r: The number of non-zero rows in D*mat*D^T\n",
    "    \"\"\"\n",
    "    assert mat.nrows() == mat.ncols()\n",
    "    \n",
    "    F = mat.base_ring()\n",
    "    n = mat.nrows()\n",
    "    q = sqrt(F.order())\n",
    "\n",
    "    if n == 1:\n",
    "        return matrix(F, [conj_square_root(mat[0][0])])\n",
    "\n",
    "    A = copy(mat)\n",
    "    D = identity_matrix(F, n)\n",
    "    row = -1  # Start at -1 to align with zero-based indexing\n",
    "\n",
    "    while True:\n",
    "        row += 1  # Increment at the start of each loop\n",
    "\n",
    "        # Look for a non-zero element on the main diagonal, starting from `row`\n",
    "        i = row\n",
    "        while i < n and A[i, i].is_zero():\n",
    "            i += 1\n",
    "\n",
    "        if i == row:\n",
    "            # Do nothing since A[row, row] != 0\n",
    "            pass\n",
    "        elif i < n:\n",
    "            # Swap to ensure A[row, row] != 0\n",
    "            A.swap_rows(row, i)\n",
    "            A.swap_columns(row, i)\n",
    "            D.swap_rows(row, i)\n",
    "        else:\n",
    "            # All entries on the main diagonal are zero; look for an off-diagonal element\n",
    "            i = row\n",
    "            while i < n - 1:\n",
    "                k = i + 1\n",
    "                while k < n and A[i, k].is_zero():\n",
    "                    k += 1\n",
    "                if k == n:\n",
    "                    i += 1\n",
    "                else:\n",
    "                    break\n",
    "\n",
    "            if i == n - 1:\n",
    "                # All elements are zero; terminate\n",
    "                row -= 1\n",
    "                r = row + 1\n",
    "                break\n",
    "\n",
    "            # Fetch the non-zero element and place it at A[row, row + 1]\n",
    "            if i != row:\n",
    "                A.swap_rows(row, i)\n",
    "                A.swap_columns(row, i)\n",
    "                D.swap_rows(row, i)\n",
    "\n",
    "            A.swap_rows(row + 1, k)\n",
    "            A.swap_columns(row + 1, k)\n",
    "            D.swap_rows(row + 1, k)\n",
    "\n",
    "            b = A[row + 1, row]**(-1)\n",
    "            A.add_multiple_of_column(row, row + 1, b**q)\n",
    "            A.add_multiple_of_row(row, row + 1, b)\n",
    "            D.add_multiple_of_row(row, row + 1, b)\n",
    "\n",
    "        # Eliminate below-diagonal entries in the current column\n",
    "        a = -A[row, row]**(-1)\n",
    "        for i in range(row + 1, n):\n",
    "            b = A[i, row] * a\n",
    "            if not b.is_zero():\n",
    "                A.add_multiple_of_column(i, row, b**q)\n",
    "                A.add_multiple_of_row(i, row, b)\n",
    "                D.add_multiple_of_row(i, row, b)\n",
    "\n",
    "        if row == n - 1:\n",
    "            break\n",
    "\n",
    "    # Count how many variables have been used\n",
    "    if row == n - 1:\n",
    "        r = n if not A[n - 1, n - 1].is_zero() else n - 1\n",
    "\n",
    "    # Normalize diagonal elements to 1\n",
    "    for i in range(r):\n",
    "        a = A[i, i]\n",
    "        if not a.is_one():\n",
    "            b = conj_square_root(a)\n",
    "            D.rescale_row(i, 1 / b)\n",
    "\n",
    "    return D.inverse()"
   ]
  },
  {
   "cell_type": "code",
   "execution_count": 3,
   "metadata": {
    "vscode": {
     "languageId": "plaintext"
    }
   },
   "outputs": [],
   "source": [
    "q = 11\n",
    "F = GF(q**2)\n",
    "U=matrix(F,[[1,4,7],[4,1,4],[7,4,1]])"
   ]
  },
  {
   "cell_type": "code",
   "execution_count": 6,
   "metadata": {
    "vscode": {
     "languageId": "plaintext"
    }
   },
   "outputs": [
    {
     "data": {
      "text/plain": [
       "True"
      ]
     },
     "execution_count": 6,
     "metadata": {},
     "output_type": "execute_result"
    }
   ],
   "source": [
    "A = base_change_hermitian_gap_source(U); A*A.H == U"
   ]
  },
  {
   "cell_type": "code",
   "execution_count": 21,
   "metadata": {
    "vscode": {
     "languageId": "plaintext"
    }
   },
   "outputs": [
    {
     "name": "stdout",
     "output_type": "stream",
     "text": [
      "[0 0 1 1 1 1]\n",
      "[0 0 0 0 1 0]\n",
      "[1 0 0 0 1 0]\n",
      "[1 0 0 0 1 1]\n",
      "[1 1 1 1 0 1]\n",
      "[1 0 0 1 1 0]\n",
      "[     6*z2  7*z2 + 6         0         0         0         0]\n",
      "[        0         0 6*z2 + 10  2*z2 + 1         0         0]\n",
      "[     6*z2  4*z2 + 5         0         0         0         0]\n",
      "[     6*z2  4*z2 + 5         0         0      6*z2  7*z2 + 6]\n",
      "[       z2         0 10*z2 + 2         0         0         0]\n",
      "[     6*z2  4*z2 + 5         0         0      6*z2  4*z2 + 5]\n"
     ]
    }
   ],
   "source": [
    "n = 6  # Number of vertices\n",
    "p = 0.5  # Probability of an edge between any two vertices\n",
    "G = graphs.RandomGNP(n, p)  # Create a random graph with n vertices and edge probability p\n",
    "U = G.adjacency_matrix().change_ring(F)  # Get the adjacency matrix\n",
    "A = base_change_hermitian_gap_source(U)\n",
    "print(U)\n",
    "print(A)"
   ]
  },
  {
   "cell_type": "code",
   "execution_count": 24,
   "metadata": {
    "vscode": {
     "languageId": "plaintext"
    }
   },
   "outputs": [
    {
     "data": {
      "text/plain": [
       "[10, 5, 5*z4^3 + 6*z4^2 + 3*z4, 9*z4^3 + 4*z4^2 + 4*z4, z4^3 + 3*z4^2 + 7*z4 + 2, 7*z4^3 + 9*z4^2 + 8*z4 + 5]"
      ]
     },
     "execution_count": 24,
     "metadata": {},
     "output_type": "execute_result"
    }
   ],
   "source": [
    "U.eigenvalues()"
   ]
  },
  {
   "cell_type": "code",
   "execution_count": 23,
   "metadata": {
    "vscode": {
     "languageId": "plaintext"
    }
   },
   "outputs": [
    {
     "data": {
      "text/plain": [
       "[z2 + 9, 6*z10^9 + 8*z10^8 + 9*z10^7 + 3*z10^6 + 9*z10^5 + 10*z10^4 + z10^3 + 4*z10^2 + 2*z10 + 1, 6*z10^9 + 7*z10^8 + 10*z10^7 + z10^6 + 6*z10^5 + 8*z10^4 + 10*z10^3 + 7*z10^2 + 3*z10 + 4, 4*z10^9 + 8*z10^8 + 9*z10^7 + 9*z10^6 + 5*z10^5 + 7*z10^4 + 3*z10^3 + z10 + 5, 7*z10^9 + 7*z10^8 + 3*z10^7 + 3*z10^6 + 3*z10^5 + 7*z10^3 + 9*z10^2 + 5*z10 + 9, 3*z10^9 + 3*z10^8 + 3*z10^7 + 7*z10^6 + z10^5 + 8*z10^4 + z10^3 + 10*z10^2 + 8*z10 + 9]"
      ]
     },
     "execution_count": 23,
     "metadata": {},
     "output_type": "execute_result"
    }
   ],
   "source": [
    "A.eigenvalues()"
   ]
  },
  {
   "cell_type": "code",
   "execution_count": null,
   "metadata": {
    "vscode": {
     "languageId": "plaintext"
    }
   },
   "outputs": [],
   "source": []
  }
 ],
 "metadata": {
  "kernelspec": {
   "display_name": "SageMath 10.5",
   "language": "sage",
   "name": "SageMath-10.5"
  },
  "language_info": {
   "codemirror_mode": {
    "name": "ipython",
    "version": 3
   },
   "file_extension": ".py",
   "mimetype": "text/x-python",
   "name": "python",
   "nbconvert_exporter": "python",
   "pygments_lexer": "ipython3",
   "version": "3.12.5"
  }
 },
 "nbformat": 4,
 "nbformat_minor": 2
}
